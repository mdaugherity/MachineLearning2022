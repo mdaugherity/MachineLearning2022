{
  "cells": [
    {
      "cell_type": "markdown",
      "metadata": {
        "id": "view-in-github",
        "colab_type": "text"
      },
      "source": [
        "<a href=\"https://colab.research.google.com/github/mdaugherity/MachineLearning2022/blob/main/HW1_DIY_1D_Classifier.ipynb\" target=\"_parent\"><img src=\"https://colab.research.google.com/assets/colab-badge.svg\" alt=\"Open In Colab\"/></a>"
      ]
    },
    {
      "cell_type": "markdown",
      "metadata": {
        "id": "dwfycjQxEfza"
      },
      "source": [
        "Name: Dr D  \n",
        "Class: PHYS453 - Machine Learning\n",
        "Date: Spring 2022\n",
        "\n",
        "# HW1 - DIY 1D Classifier\n",
        "In this assignment you will use **brutal force** to find a single decision boundary threshold for a one feature classifier.  You'll find some metrics to help calculate the optimal place, and try to convince me that it actually works.\n",
        "\n",
        "\n"
      ]
    },
    {
      "cell_type": "code",
      "execution_count": 1,
      "metadata": {
        "id": "EER6gbQbEfzc"
      },
      "outputs": [],
      "source": [
        "import matplotlib.pyplot as plt\n",
        "import numpy as np\n",
        "from sklearn import datasets\n",
        "\n",
        "%matplotlib inline"
      ]
    },
    {
      "cell_type": "markdown",
      "metadata": {
        "id": "SuZ1ZN2VEfzd"
      },
      "source": [
        "## Requirements\n",
        "* \"Hours of coding will save you minutes of design\".  Make a plan first.\n",
        "* You do not _need_ to make a class or define functions, but some functions will make your life easier\n",
        "* You are submitting a **report**, not just a program.  You need to use the template below where your code is interspersed with markdown cells for discussion and explanations. \n",
        "* Yes: in the template you need to restate (not copy) the problem description and _explain_ the solution method.  **Do not skip any sections.**"
      ]
    },
    {
      "cell_type": "markdown",
      "metadata": {
        "id": "GifqYNEhEfze"
      },
      "source": [
        "## A note on functions:\n",
        "Defining functions makes your life easier.  For example, take a gross thing you have to do lots of times.  Instead of copying and pasting make a function\n"
      ]
    },
    {
      "cell_type": "code",
      "execution_count": null,
      "metadata": {
        "id": "Y3XjPgTSEfzf"
      },
      "outputs": [],
      "source": [
        "def dist2(a,b):\n",
        "    \"\"\"Returns the distance squared between 1D numpy arrays a and b\"\"\"\n",
        "    return( ((a-b)**2).sum() )"
      ]
    },
    {
      "cell_type": "code",
      "execution_count": null,
      "metadata": {
        "id": "kARAhzuZEfzf",
        "outputId": "2c9255bd-494c-4762-c40f-662b6a42c98e"
      },
      "outputs": [
        {
          "data": {
            "text/plain": [
              "20"
            ]
          },
          "execution_count": 3,
          "metadata": {},
          "output_type": "execute_result"
        }
      ],
      "source": [
        "a = np.array([1,2])\n",
        "b = np.array([5,4])\n",
        "dist2(a,b)"
      ]
    },
    {
      "cell_type": "markdown",
      "metadata": {
        "id": "Hvx58HrjEfzg"
      },
      "source": [
        "We will soon be using a library that has functions like:\n",
        "* `fit` to train the classifier \n",
        "* `predict` to classify new points"
      ]
    },
    {
      "cell_type": "markdown",
      "metadata": {
        "id": "TsaSpLbCEfzg"
      },
      "source": [
        "## The Iris Dataset\n",
        "This is a famous example in machine learning using 4 measurements as features to distinguish between 3 species of irises.  We talked through the details in class, so we'll keep it simple for now.\n",
        "\n",
        "https://scikit-learn.org/stable/modules/generated/sklearn.datasets.load_iris.html \n"
      ]
    },
    {
      "cell_type": "code",
      "execution_count": 8,
      "metadata": {
        "id": "27EfbRPGEfzh",
        "outputId": "168bc6f1-fb37-4bcb-80c9-59298e2da623",
        "colab": {
          "base_uri": "https://localhost:8080/"
        }
      },
      "outputs": [
        {
          "output_type": "stream",
          "name": "stdout",
          "text": [
            "Feature data shape:  (150, 4)\n",
            "The targets are:  [0 1 2]\n"
          ]
        }
      ],
      "source": [
        "X, y = datasets.load_iris(return_X_y=True)\n",
        "print('Feature data shape: ',X.shape)\n",
        "print('The targets are: ',np.unique(y))"
      ]
    },
    {
      "cell_type": "markdown",
      "metadata": {
        "id": "evaNG2RAEfzj"
      },
      "source": [
        "`X` has 150 flowers (each row is a sample) with 4 features (columns).  The `y` array is the species number (0, 1, or 2).  *You can ignore species 2 for today.*\n",
        "\n",
        "You can access data for a single species easily:"
      ]
    },
    {
      "cell_type": "code",
      "source": [
        "X[ y==0 ].shape   # only species 0\n",
        "X[ y==1 ].shape   # only species 1"
      ],
      "metadata": {
        "colab": {
          "base_uri": "https://localhost:8080/"
        },
        "id": "cA4jy2jhHnTK",
        "outputId": "24fecef1-7c1a-40cf-9689-cb415cf850c5"
      },
      "execution_count": 11,
      "outputs": [
        {
          "output_type": "execute_result",
          "data": {
            "text/plain": [
              "(50, 4)"
            ]
          },
          "metadata": {},
          "execution_count": 11
        }
      ]
    },
    {
      "cell_type": "markdown",
      "source": [
        "\n",
        "More examples:\n",
        "```\n",
        "X[:,0]  #  only feature 0, all speciees\n",
        "X[y==1, 2] # feature 2, species 1\n",
        "```\n",
        "\n"
      ],
      "metadata": {
        "id": "DgUJ2lVQbID7"
      }
    },
    {
      "cell_type": "markdown",
      "source": [
        "Visualize the features with violin plots:\n",
        "* https://matplotlib.org/stable/gallery/statistics/violinplot.html\n",
        "* https://matplotlib.org/stable/api/_as_gen/matplotlib.pyplot.violinplot.html#matplotlib.pyplot.violinplot \n",
        "\n"
      ],
      "metadata": {
        "id": "Z7uDNjjmIdM-"
      }
    },
    {
      "cell_type": "code",
      "execution_count": 18,
      "metadata": {
        "id": "iHG7jTjFEfzj",
        "outputId": "61c455fc-19a6-4716-c778-abf1a9174062",
        "colab": {
          "base_uri": "https://localhost:8080/",
          "height": 334
        }
      },
      "outputs": [
        {
          "output_type": "display_data",
          "data": {
            "image/png": "[encoded data removed]",
            "text/plain": [
              "<Figure size 864x360 with 1 Axes>"
            ]
          },
          "metadata": {
            "needs_background": "light"
          }
        }
      ],
      "source": [
        "plt.figure(figsize=(12,5))\n",
        "pos = np.arange(4)\n",
        "plt.violinplot(X[y==0,:], vert=False, positions=pos)\n",
        "plt.violinplot(X[y==1,:], vert=False, positions=pos)\n",
        "plt.yticks(ticks=pos)\n",
        "plt.ylabel('Feature Number')\n",
        "plt.xlabel('Feature Value')\n",
        "#plt.legend(labels=['0','1'])\n",
        "plt.show()"
      ]
    },
    {
      "cell_type": "markdown",
      "metadata": {
        "id": "a0zLVFubEfzl"
      },
      "source": [
        "## Problems\n",
        "1. Write code (hopefully a function) to \n",
        "\n",
        "2. Predict the species of each sample in the csv file.  \n",
        "  1. Display a dataframe showing your results.  Include BOTH the features and predicted species of the new sample, the features and species of the closest neighbor in the training set, and the distance (squared) between them.\n",
        "  2. You may choose the number of neighbors you use to classify\n",
        "  3. Make a convincing plot showing that your predictions are reasonable."
      ]
    },
    {
      "cell_type": "markdown",
      "metadata": {
        "id": "4_FTleytEfzl"
      },
      "source": [
        "---\n",
        "# HOMEWORK REPORT TEMPLATE\n",
        "---"
      ]
    },
    {
      "cell_type": "markdown",
      "metadata": {
        "id": "uBTa5EmgEfzl"
      },
      "source": [
        "## Problem Description\n",
        "goes here\n"
      ]
    },
    {
      "cell_type": "markdown",
      "metadata": {
        "id": "FtDjGD-hEfzn"
      },
      "source": [
        "## Solution Method\n",
        "Your plan of attack.  Explain what you are going do to solve the stated problem.\n"
      ]
    },
    {
      "cell_type": "markdown",
      "metadata": {
        "id": "WUKNVsBBEfzn"
      },
      "source": [
        "## Input\n",
        "Load and pre-process data"
      ]
    },
    {
      "cell_type": "markdown",
      "metadata": {
        "id": "bxFcPD25Efzn"
      },
      "source": [
        "## Analysis\n",
        "Do all the work here\n"
      ]
    },
    {
      "cell_type": "markdown",
      "metadata": {
        "id": "F9jEpwelEfzn"
      },
      "source": [
        "## Results\n",
        "Produce the lovely plots and/or data tables that best visualization your solution"
      ]
    },
    {
      "cell_type": "markdown",
      "metadata": {
        "id": "vBH4fflWEfzo"
      },
      "source": [
        "## Discussion\n",
        "Explain and interpret your results.  Explain how your results solve the problem.  Also describe anything interesting you discovered along the way, or lessons learned, or how you overcame problems you encountered.     "
      ]
    }
  ],
  "metadata": {
    "kernelspec": {
      "display_name": "Python 3",
      "language": "python",
      "name": "python3"
    },
    "language_info": {
      "codemirror_mode": {
        "name": "ipython",
        "version": 3
      },
      "file_extension": ".py",
      "mimetype": "text/x-python",
      "name": "python",
      "nbconvert_exporter": "python",
      "pygments_lexer": "ipython3",
      "version": "3.8.8"
    },
    "colab": {
      "name": "HW1 - DIY 1D Classifier.ipynb",
      "provenance": [],
      "collapsed_sections": [
        "SuZ1ZN2VEfzd",
        "a0zLVFubEfzl",
        "uBTa5EmgEfzl",
        "FtDjGD-hEfzn",
        "WUKNVsBBEfzn",
        "bxFcPD25Efzn",
        "F9jEpwelEfzn",
        "vBH4fflWEfzo"
      ],
      "include_colab_link": true
    }
  },
  "nbformat": 4,
  "nbformat_minor": 0
}