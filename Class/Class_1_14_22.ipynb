{
  "nbformat": 4,
  "nbformat_minor": 0,
  "metadata": {
    "colab": {
      "name": "Class 1-14-22.ipynb",
      "provenance": [],
      "collapsed_sections": [],
      "authorship_tag": "ABX9TyOOgGH+6NbuxOXSq+39IZyJ",
      "include_colab_link": true
    },
    "kernelspec": {
      "name": "python3",
      "display_name": "Python 3"
    },
    "language_info": {
      "name": "python"
    }
  },
  "cells": [
    {
      "cell_type": "markdown",
      "metadata": {
        "id": "view-in-github",
        "colab_type": "text"
      },
      "source": [
        "<a href=\"https://colab.research.google.com/github/mdaugherity/MachineLearning2022/blob/main/Class/Class_1_14_22.ipynb\" target=\"_parent\"><img src=\"https://colab.research.google.com/assets/colab-badge.svg\" alt=\"Open In Colab\"/></a>"
      ]
    },
    {
      "cell_type": "markdown",
      "source": [
        "# Intro to Google Colab\n",
        "Dr. Daugherity, PHYS 453, Spring 2022\n",
        "\n",
        "\n",
        "\n"
      ],
      "metadata": {
        "id": "ZV9VQTrIb_sk"
      }
    },
    {
      "cell_type": "code",
      "execution_count": null,
      "metadata": {
        "id": "y_VUy5kIbvWW"
      },
      "outputs": [],
      "source": [
        "x = [1, 1.2354, 'asdf']"
      ]
    },
    {
      "cell_type": "code",
      "source": [
        "x"
      ],
      "metadata": {
        "colab": {
          "base_uri": "https://localhost:8080/"
        },
        "id": "O7vOmcZZc4mZ",
        "outputId": "559bccf1-c1ec-4b76-b980-56f654887a0a"
      },
      "execution_count": null,
      "outputs": [
        {
          "output_type": "execute_result",
          "data": {
            "text/plain": [
              "[1, 1.2354, 'asdf']"
            ]
          },
          "metadata": {},
          "execution_count": 7
        }
      ]
    },
    {
      "cell_type": "code",
      "source": [
        "x = 12\n",
        "y = 12.335543232\n",
        "print(x,y)\n",
        "print('The answer is:',x,' and ',y)\n",
        "print(f\"The answer is: {x} and {y}\")\n",
        "print(f\"The answer is: {x} and {y:5.2f}\")"
      ],
      "metadata": {
        "colab": {
          "base_uri": "https://localhost:8080/"
        },
        "id": "216TTt4FdHCc",
        "outputId": "94202be5-3676-48f5-a943-d90c6dedd33d"
      },
      "execution_count": null,
      "outputs": [
        {
          "output_type": "stream",
          "name": "stdout",
          "text": [
            "12 12.335543232\n",
            "The answer is: 12  and  12.335543232\n",
            "The answer is: 12 and 12.335543232\n",
            "The answer is: 12 and 12.34\n"
          ]
        }
      ]
    },
    {
      "cell_type": "markdown",
      "source": [
        "# Loooooops\n",
        "Loops only work on **LISTS**!"
      ],
      "metadata": {
        "id": "WHzx-o18d9BV"
      }
    },
    {
      "cell_type": "code",
      "source": [
        "for i in [0,1,'steve',2.4,3]:\n",
        "  print(i)"
      ],
      "metadata": {
        "colab": {
          "base_uri": "https://localhost:8080/"
        },
        "id": "HWU-iUqjeBZS",
        "outputId": "fdb4dac1-4c55-403d-eed1-2b3dbe287ae0"
      },
      "execution_count": null,
      "outputs": [
        {
          "output_type": "stream",
          "name": "stdout",
          "text": [
            "0\n",
            "1\n",
            "steve\n",
            "2.4\n",
            "3\n"
          ]
        }
      ]
    },
    {
      "cell_type": "code",
      "source": [
        "for i in range(5):\n",
        "  print(i)"
      ],
      "metadata": {
        "colab": {
          "base_uri": "https://localhost:8080/"
        },
        "id": "xa2VdpleeRM_",
        "outputId": "2aaaddab-ca85-4d52-fb04-d6751feceaaf"
      },
      "execution_count": null,
      "outputs": [
        {
          "output_type": "stream",
          "name": "stdout",
          "text": [
            "0\n",
            "1\n",
            "2\n",
            "3\n",
            "4\n"
          ]
        }
      ]
    },
    {
      "cell_type": "code",
      "source": [
        "i=0\n",
        "while i<4:\n",
        "  print(i)\n",
        "  i+=1\n"
      ],
      "metadata": {
        "colab": {
          "base_uri": "https://localhost:8080/"
        },
        "id": "Ht_7JG3eebzd",
        "outputId": "077947ac-c003-4061-d3aa-74440b4772cd"
      },
      "execution_count": null,
      "outputs": [
        {
          "output_type": "stream",
          "name": "stdout",
          "text": [
            "0\n",
            "1\n",
            "2\n",
            "3\n"
          ]
        }
      ]
    },
    {
      "cell_type": "markdown",
      "source": [
        "# Logic"
      ],
      "metadata": {
        "id": "S7J5W4PAe5It"
      }
    },
    {
      "cell_type": "code",
      "source": [
        "i=1\n",
        "if i==0 or i==1:\n",
        "  print('ZERO or ONE')\n"
      ],
      "metadata": {
        "colab": {
          "base_uri": "https://localhost:8080/"
        },
        "id": "J44hACgQd3xO",
        "outputId": "0f768bbe-b0b7-4324-b78b-3158f51db1c3"
      },
      "execution_count": null,
      "outputs": [
        {
          "output_type": "stream",
          "name": "stdout",
          "text": [
            "ZERO or ONE\n"
          ]
        }
      ]
    },
    {
      "cell_type": "markdown",
      "source": [
        "# NUMPY"
      ],
      "metadata": {
        "id": "iAhOfpZpgCq-"
      }
    },
    {
      "cell_type": "code",
      "source": [
        "#import numpy as np\n",
        "from numpy import *"
      ],
      "metadata": {
        "id": "1VqZsBzcfbtS"
      },
      "execution_count": null,
      "outputs": []
    },
    {
      "cell_type": "code",
      "source": [
        "pi"
      ],
      "metadata": {
        "colab": {
          "base_uri": "https://localhost:8080/"
        },
        "id": "-QhnHzorgVmQ",
        "outputId": "21687f96-1d46-4834-c6c1-41724345bc92"
      },
      "execution_count": null,
      "outputs": [
        {
          "output_type": "execute_result",
          "data": {
            "text/plain": [
              "3.141592653589793"
            ]
          },
          "metadata": {},
          "execution_count": 29
        }
      ]
    },
    {
      "cell_type": "code",
      "source": [
        "# Making arrays\n",
        "x = array([1,3,5])\n",
        "print(x)"
      ],
      "metadata": {
        "colab": {
          "base_uri": "https://localhost:8080/"
        },
        "id": "Ep1F25DFgflr",
        "outputId": "12172e99-5071-46bd-bc59-ce7fcd7927ef"
      },
      "execution_count": null,
      "outputs": [
        {
          "output_type": "stream",
          "name": "stdout",
          "text": [
            "[1 3 5]\n"
          ]
        },
        {
          "output_type": "execute_result",
          "data": {
            "text/plain": [
              "array([ 0.84147098,  0.14112001, -0.95892427])"
            ]
          },
          "metadata": {},
          "execution_count": 37
        }
      ]
    },
    {
      "cell_type": "code",
      "source": [
        "arange(5)"
      ],
      "metadata": {
        "colab": {
          "base_uri": "https://localhost:8080/"
        },
        "id": "rYesYCgMheES",
        "outputId": "58b90c55-831c-48e2-91fe-0e4574232890"
      },
      "execution_count": null,
      "outputs": [
        {
          "output_type": "execute_result",
          "data": {
            "text/plain": [
              "array([0, 1, 2, 3, 4])"
            ]
          },
          "metadata": {},
          "execution_count": 38
        }
      ]
    },
    {
      "cell_type": "code",
      "source": [
        "arange(10,15,2)"
      ],
      "metadata": {
        "colab": {
          "base_uri": "https://localhost:8080/"
        },
        "id": "O7EqeKlnhlPm",
        "outputId": "721923c1-23f1-4098-ca5e-601e5e301aed"
      },
      "execution_count": null,
      "outputs": [
        {
          "output_type": "execute_result",
          "data": {
            "text/plain": [
              "array([10, 12, 14])"
            ]
          },
          "metadata": {},
          "execution_count": 39
        }
      ]
    },
    {
      "cell_type": "code",
      "source": [
        "linspace(0,10,5)\n"
      ],
      "metadata": {
        "colab": {
          "base_uri": "https://localhost:8080/"
        },
        "id": "cxNyJNQ1hrJc",
        "outputId": "e7f51f6e-325b-4d98-9c52-d4dac804e14b"
      },
      "execution_count": null,
      "outputs": [
        {
          "output_type": "execute_result",
          "data": {
            "text/plain": [
              "array([ 0. ,  2.5,  5. ,  7.5, 10. ])"
            ]
          },
          "metadata": {},
          "execution_count": 41
        }
      ]
    },
    {
      "cell_type": "code",
      "source": [
        "x = zeros((4,2))\n",
        "print(x)\n",
        "x.shape"
      ],
      "metadata": {
        "colab": {
          "base_uri": "https://localhost:8080/"
        },
        "id": "szbynOjQiEo5",
        "outputId": "6f64585d-d563-4eaf-9cc4-ea1b96efe168"
      },
      "execution_count": null,
      "outputs": [
        {
          "output_type": "stream",
          "name": "stdout",
          "text": [
            "[[0. 0.]\n",
            " [0. 0.]\n",
            " [0. 0.]\n",
            " [0. 0.]]\n"
          ]
        },
        {
          "output_type": "execute_result",
          "data": {
            "text/plain": [
              "(4, 2)"
            ]
          },
          "metadata": {},
          "execution_count": 46
        }
      ]
    },
    {
      "cell_type": "code",
      "source": [
        "x.reshape((2,-1))"
      ],
      "metadata": {
        "colab": {
          "base_uri": "https://localhost:8080/"
        },
        "id": "9Xnglu1Hiq89",
        "outputId": "aa16f7a8-c382-4b5c-ff5b-1dc2c38656fb"
      },
      "execution_count": null,
      "outputs": [
        {
          "output_type": "execute_result",
          "data": {
            "text/plain": [
              "array([[0., 0., 0., 0.],\n",
              "       [0., 0., 0., 0.]])"
            ]
          },
          "metadata": {},
          "execution_count": 53
        }
      ]
    },
    {
      "cell_type": "markdown",
      "source": [
        "## Indexing"
      ],
      "metadata": {
        "id": "VaO4-XzvjEoP"
      }
    },
    {
      "cell_type": "code",
      "source": [
        "x = arange(100)\n",
        "print(x)"
      ],
      "metadata": {
        "colab": {
          "base_uri": "https://localhost:8080/"
        },
        "id": "5PoyPvh6jA0A",
        "outputId": "6d7c3e31-c9cd-4d21-e9d9-364c81d232f0"
      },
      "execution_count": null,
      "outputs": [
        {
          "output_type": "stream",
          "name": "stdout",
          "text": [
            "[ 0  1  2  3  4  5  6  7  8  9 10 11 12 13 14 15 16 17 18 19 20 21 22 23\n",
            " 24 25 26 27 28 29 30 31 32 33 34 35 36 37 38 39 40 41 42 43 44 45 46 47\n",
            " 48 49 50 51 52 53 54 55 56 57 58 59 60 61 62 63 64 65 66 67 68 69 70 71\n",
            " 72 73 74 75 76 77 78 79 80 81 82 83 84 85 86 87 88 89 90 91 92 93 94 95\n",
            " 96 97 98 99]\n"
          ]
        }
      ]
    },
    {
      "cell_type": "code",
      "source": [
        "x[0]"
      ],
      "metadata": {
        "colab": {
          "base_uri": "https://localhost:8080/"
        },
        "id": "gNtqh4uhjN-5",
        "outputId": "65f617cc-9d68-4ce3-b6d0-89ae3477bd3c"
      },
      "execution_count": null,
      "outputs": [
        {
          "output_type": "execute_result",
          "data": {
            "text/plain": [
              "0"
            ]
          },
          "metadata": {},
          "execution_count": 56
        }
      ]
    },
    {
      "cell_type": "code",
      "source": [
        "x[-1]"
      ],
      "metadata": {
        "colab": {
          "base_uri": "https://localhost:8080/"
        },
        "id": "b4BOQgAwjS_I",
        "outputId": "06480558-fb65-474d-969f-92acd35e8d1c"
      },
      "execution_count": null,
      "outputs": [
        {
          "output_type": "execute_result",
          "data": {
            "text/plain": [
              "99"
            ]
          },
          "metadata": {},
          "execution_count": 60
        }
      ]
    },
    {
      "cell_type": "code",
      "source": [
        "#x[0:5]\n",
        "x[:5]"
      ],
      "metadata": {
        "colab": {
          "base_uri": "https://localhost:8080/"
        },
        "id": "cGdZ2DlLjXtM",
        "outputId": "c56e5ad3-5c76-42e3-a133-1ce29a3183ac"
      },
      "execution_count": null,
      "outputs": [
        {
          "output_type": "execute_result",
          "data": {
            "text/plain": [
              "array([0, 1, 2, 3, 4])"
            ]
          },
          "metadata": {},
          "execution_count": 62
        }
      ]
    },
    {
      "cell_type": "code",
      "source": [
        "x[-5:]"
      ],
      "metadata": {
        "colab": {
          "base_uri": "https://localhost:8080/"
        },
        "id": "BZ4meayWjc_G",
        "outputId": "6369dca6-3065-41f5-8a25-1ef56df737f9"
      },
      "execution_count": null,
      "outputs": [
        {
          "output_type": "execute_result",
          "data": {
            "text/plain": [
              "array([95, 96, 97, 98, 99])"
            ]
          },
          "metadata": {},
          "execution_count": 63
        }
      ]
    },
    {
      "cell_type": "code",
      "source": [
        "x[36:39]"
      ],
      "metadata": {
        "colab": {
          "base_uri": "https://localhost:8080/"
        },
        "id": "QkuV10mGjjuG",
        "outputId": "fcc2cdeb-16da-4e57-f385-adce206b9149"
      },
      "execution_count": null,
      "outputs": [
        {
          "output_type": "execute_result",
          "data": {
            "text/plain": [
              "array([36, 37, 38])"
            ]
          },
          "metadata": {},
          "execution_count": 64
        }
      ]
    },
    {
      "cell_type": "code",
      "source": [
        "y = sin(x)"
      ],
      "metadata": {
        "id": "3u7dYCmMjmID"
      },
      "execution_count": null,
      "outputs": []
    },
    {
      "cell_type": "code",
      "source": [
        "x[ y>0.5 ]"
      ],
      "metadata": {
        "colab": {
          "base_uri": "https://localhost:8080/"
        },
        "id": "vMsVa9YjjpPm",
        "outputId": "cc92b8cd-0267-4536-c09e-4d6ee185013a"
      },
      "execution_count": null,
      "outputs": [
        {
          "output_type": "execute_result",
          "data": {
            "text/plain": [
              "array([ 1,  2,  7,  8, 14, 15, 20, 21, 26, 27, 32, 33, 34, 39, 40, 45, 46,\n",
              "       51, 52, 58, 59, 64, 65, 70, 71, 76, 77, 78, 83, 84, 89, 90, 95, 96])"
            ]
          },
          "metadata": {},
          "execution_count": 66
        }
      ]
    },
    {
      "cell_type": "code",
      "source": [
        ""
      ],
      "metadata": {
        "colab": {
          "base_uri": "https://localhost:8080/"
        },
        "id": "7xHK0UL-j4mk",
        "outputId": "288eae24-17de-430b-8dcc-53dccc1fe02e"
      },
      "execution_count": null,
      "outputs": [
        {
          "output_type": "execute_result",
          "data": {
            "text/plain": [
              "array([ 0.        ,  0.84147098,  0.90929743,  0.14112001, -0.7568025 ,\n",
              "       -0.95892427, -0.2794155 ,  0.6569866 ,  0.98935825,  0.41211849,\n",
              "       -0.54402111, -0.99999021, -0.53657292,  0.42016704,  0.99060736,\n",
              "        0.65028784, -0.28790332, -0.96139749, -0.75098725,  0.14987721,\n",
              "        0.91294525,  0.83665564, -0.00885131, -0.8462204 , -0.90557836,\n",
              "       -0.13235175,  0.76255845,  0.95637593,  0.27090579, -0.66363388,\n",
              "       -0.98803162, -0.40403765,  0.55142668,  0.99991186,  0.52908269,\n",
              "       -0.42818267, -0.99177885, -0.64353813,  0.29636858,  0.96379539,\n",
              "        0.74511316, -0.15862267, -0.91652155, -0.83177474,  0.01770193,\n",
              "        0.85090352,  0.90178835,  0.12357312, -0.76825466, -0.95375265,\n",
              "       -0.26237485,  0.67022918,  0.98662759,  0.39592515, -0.55878905,\n",
              "       -0.99975517, -0.521551  ,  0.43616476,  0.99287265,  0.63673801,\n",
              "       -0.30481062, -0.96611777, -0.7391807 ,  0.1673557 ,  0.92002604,\n",
              "        0.82682868, -0.02655115, -0.85551998, -0.89792768, -0.11478481,\n",
              "        0.77389068,  0.95105465,  0.25382336, -0.67677196, -0.98514626,\n",
              "       -0.38778164,  0.56610764,  0.99952016,  0.51397846, -0.44411267,\n",
              "       -0.99388865, -0.62988799,  0.31322878,  0.96836446,  0.73319032,\n",
              "       -0.17607562, -0.92345845, -0.82181784,  0.0353983 ,  0.86006941,\n",
              "        0.89399666,  0.10598751, -0.77946607, -0.94828214, -0.24525199,\n",
              "        0.68326171,  0.98358775,  0.37960774, -0.57338187, -0.99920683])"
            ]
          },
          "metadata": {},
          "execution_count": 68
        }
      ]
    },
    {
      "cell_type": "code",
      "source": [
        ""
      ],
      "metadata": {
        "id": "mnoboKQlkB-r"
      },
      "execution_count": null,
      "outputs": []
    },
    {
      "cell_type": "markdown",
      "source": [
        "# PLOTS!!!!!!\n"
      ],
      "metadata": {
        "id": "4sNPRITZkC3d"
      }
    },
    {
      "cell_type": "code",
      "source": [
        "from matplotlib.pyplot import *"
      ],
      "metadata": {
        "id": "3bIBY3STkFBo"
      },
      "execution_count": null,
      "outputs": []
    },
    {
      "cell_type": "code",
      "source": [
        "x = np.linspace(0,10)\n",
        "y = sin(x)\n",
        "plot(x,y)"
      ],
      "metadata": {
        "colab": {
          "base_uri": "https://localhost:8080/",
          "height": 284
        },
        "id": "KCmfHb4TkJZu",
        "outputId": "580d2a57-7ca3-463c-ea89-18cd22889f45"
      },
      "execution_count": null,
      "outputs": [
        {
          "output_type": "execute_result",
          "data": {
            "text/plain": [
              "[<matplotlib.lines.Line2D at 0x7f3fbecb1d50>]"
            ]
          },
          "metadata": {},
          "execution_count": 70
        },
        {
          "output_type": "display_data",
          "data": {
            "image/png": "[encoded data removed]",
            "text/plain": [
              "<Figure size 432x288 with 1 Axes>"
            ]
          },
          "metadata": {
            "needs_background": "light"
          }
        }
      ]
    }
  ]
}