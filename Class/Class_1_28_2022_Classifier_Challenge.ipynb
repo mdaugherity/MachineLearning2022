{
  "cells": [
    {
      "cell_type": "markdown",
      "metadata": {
        "id": "view-in-github",
        "colab_type": "text"
      },
      "source": [
        "<a href=\"https://colab.research.google.com/github/mdaugherity/MachineLearning2022/blob/main/Class/Class_1_28_2022_Classifier_Challenge.ipynb\" target=\"_parent\"><img src=\"https://colab.research.google.com/assets/colab-badge.svg\" alt=\"Open In Colab\"/></a>"
      ]
    },
    {
      "cell_type": "markdown",
      "metadata": {
        "id": "9hDn-2_wM5Uu"
      },
      "source": [
        "# Evaluating Classifiers Challenge\n",
        "\n",
        "Given a data set and 3 trained classifiers, your job is to:\n",
        "* determine the overall \"best\" classifier\n",
        "* also discuss which classifier is best for maximizing precision, and which minimizes false positives\n",
        "* find the optimal probability threshold for your best classifier, and use it to classify the points in X_new\n",
        "\n",
        "Notes:\n",
        "* Do NOT modify the classifiers or the data set.  They've been chosen carefully for this problem\n",
        "* For your conveinence, the homework template is included below\n",
        "\n",
        "References:\n",
        "*  https://scikit-learn.org/stable/modules/classes.html#module-sklearn.metrics \n"
      ]
    },
    {
      "cell_type": "code",
      "execution_count": 8,
      "metadata": {
        "id": "LsDIfP6NM5Uw"
      },
      "outputs": [],
      "source": [
        "# Create Challenge Data - DO NOT MODIFY THIS CODE\n",
        "from sklearn import datasets\n",
        "from sklearn.model_selection import train_test_split\n",
        "import numpy as np\n",
        "import matplotlib.pyplot as plt\n",
        "\n",
        "X, y_true = datasets.make_classification(n_samples=100, n_features=8, n_informative=3, n_classes=2, class_sep=0.7, random_state=1)\n",
        "\n",
        "#X_train, X_test, y_train, y_test = train_test_split(X, y, random_state=0)\n",
        "\n",
        "X_new, _ = datasets.make_classification(n_samples=5, n_features=8, n_informative=3, n_classes=2, class_sep=0.7, random_state=42)"
      ]
    },
    {
      "cell_type": "code",
      "execution_count": 9,
      "metadata": {
        "id": "NBD4vcMZM5Uy",
        "outputId": "7d4d8461-3484-48c6-e6cd-0c03ac575a19",
        "colab": {
          "base_uri": "https://localhost:8080/"
        }
      },
      "outputs": [
        {
          "output_type": "stream",
          "name": "stderr",
          "text": [
            "/usr/local/lib/python3.7/dist-packages/sklearn/neural_network/_multilayer_perceptron.py:696: ConvergenceWarning: Stochastic Optimizer: Maximum iterations (200) reached and the optimization hasn't converged yet.\n",
            "  ConvergenceWarning,\n"
          ]
        }
      ],
      "source": [
        "# Set up classifiers - DO NOT MODIFY THIS CODE\n",
        "from sklearn.svm import SVC\n",
        "from sklearn import tree\n",
        "from sklearn import neural_network\n",
        "\n",
        "svc = SVC(kernel='poly', C=1,probability=True)\n",
        "dtr = tree.DecisionTreeClassifier(max_depth=4)\n",
        "ann = neural_network.MLPClassifier(random_state=1)\n",
        "\n",
        "\n",
        "clf_list = (svc,dtr,ann) # list o' classifiers\n",
        "\n",
        "# Train all the classifiers in a for loop, just because we can\n",
        "for clf in clf_list:\n",
        "    clf.fit(X,y_true)\n",
        "    \n",
        "# Expect to see an error message about the neural network not converging below..."
      ]
    },
    {
      "cell_type": "markdown",
      "source": [
        "# Examples\n",
        "You can modify code below here"
      ],
      "metadata": {
        "id": "8mpXbTFLN4iR"
      }
    },
    {
      "cell_type": "code",
      "source": [
        "from sklearn import metrics"
      ],
      "metadata": {
        "id": "7fhxmr36OZoJ"
      },
      "execution_count": 7,
      "outputs": []
    },
    {
      "cell_type": "code",
      "source": [
        "# Example with SVC\n",
        "y_pred = svc.predict(X)\n",
        "print(metrics.classification_report( y_true, y_pred ))"
      ],
      "metadata": {
        "colab": {
          "base_uri": "https://localhost:8080/"
        },
        "id": "d69Q4UntNwVV",
        "outputId": "6912c38c-010e-4622-885e-455ca9ed91fa"
      },
      "execution_count": 12,
      "outputs": [
        {
          "output_type": "stream",
          "name": "stdout",
          "text": [
            "              precision    recall  f1-score   support\n",
            "\n",
            "           0       0.86      0.71      0.77        51\n",
            "           1       0.74      0.88      0.80        49\n",
            "\n",
            "    accuracy                           0.79       100\n",
            "   macro avg       0.80      0.79      0.79       100\n",
            "weighted avg       0.80      0.79      0.79       100\n",
            "\n"
          ]
        }
      ]
    },
    {
      "cell_type": "code",
      "execution_count": null,
      "metadata": {
        "id": "jcP_eV72M5Uz",
        "outputId": "753a1602-db13-4df7-877c-4fccaf191960"
      },
      "outputs": [
        {
          "name": "stdout",
          "output_type": "stream",
          "text": [
            "[[ 0.9286  1.      1.    ]\n",
            " [ 0.0008  0.      0.    ]\n",
            " [ 0.9697  1.      1.    ]\n",
            " [ 0.2611  0.      1.    ]\n",
            " [ 0.1704  0.      0.    ]\n",
            " [ 0.9852  1.      1.    ]\n",
            " [ 0.3005  0.      0.    ]\n",
            " [ 0.8058  1.      1.    ]\n",
            " [ 0.6618  1.      0.    ]\n",
            " [ 0.8281  1.      1.    ]\n",
            " [ 0.2587  0.      0.    ]\n",
            " [ 0.9574  1.      0.    ]\n",
            " [ 0.745   1.      1.    ]\n",
            " [ 0.0612  0.      0.    ]\n",
            " [ 0.137   0.      0.    ]\n",
            " [ 0.6154  1.      1.    ]\n",
            " [ 0.895   1.      0.    ]\n",
            " [ 0.449   0.      1.    ]\n",
            " [ 0.5727  1.      1.    ]\n",
            " [ 0.4364  0.      1.    ]\n",
            " [ 0.3437  0.      1.    ]\n",
            " [ 0.7975  1.      1.    ]\n",
            " [ 0.7909  1.      1.    ]\n",
            " [ 0.1816  0.      0.    ]\n",
            " [ 0.2497  0.      0.    ]]\n"
          ]
        }
      ],
      "source": [
        "# Example getting probabilities.  You probably don't want to use this code in your final report\n",
        "\n",
        "# The predict function classifies data points\n",
        "y_pred = i.predict(X_test)\n",
        "\n",
        "# Just to help us look, let's concat these together to print columns side-by-side\n",
        "probs = np.c_[y_score, y_pred, y_test]\n",
        "np.set_printoptions(precision=4,suppress=True)\n",
        "print(probs)\n",
        "\n",
        "# We should see that the prediction is 1 whenever the probability score is > 0.5\n",
        "# The last column tells us the actual class.  We should be right most of the time,\n",
        "# and we expect to be wrong more often when score is near 0.5\n",
        "\n",
        "#y_score   pred    actual"
      ]
    },
    {
      "cell_type": "markdown",
      "metadata": {
        "id": "I1jt1tVuM5U0"
      },
      "source": [
        "***"
      ]
    },
    {
      "cell_type": "markdown",
      "metadata": {
        "id": "wAweZCTcM5U1"
      },
      "source": [
        "Name: Dr D  \n",
        "Class: Pattern Recognition Spring 2018\n",
        "\n",
        "# TITLE \n",
        "A one-sentance summary of what happens here"
      ]
    },
    {
      "cell_type": "markdown",
      "metadata": {
        "id": "xXR_K4MuM5U1"
      },
      "source": [
        "## Problem Description\n",
        "goes here\n"
      ]
    },
    {
      "cell_type": "markdown",
      "metadata": {
        "id": "hlPC_0mdM5U2"
      },
      "source": [
        "## Solution Method\n",
        "Your plan of attack.  Explain what you are going do to solve the stated problem.\n"
      ]
    },
    {
      "cell_type": "markdown",
      "metadata": {
        "id": "QrUsb0QeM5U2"
      },
      "source": [
        "## Input\n",
        "Load and pre-process data"
      ]
    },
    {
      "cell_type": "markdown",
      "metadata": {
        "id": "YnQqRuoVM5U3"
      },
      "source": [
        "## Analysis\n",
        "Do all the work here\n"
      ]
    },
    {
      "cell_type": "markdown",
      "metadata": {
        "id": "mRbY6Nm2M5U4"
      },
      "source": [
        "## Results\n",
        "Produce the lovely plots and/or data tables that best visualization your solution"
      ]
    },
    {
      "cell_type": "markdown",
      "metadata": {
        "id": "0PX_0sl2M5U4"
      },
      "source": [
        "## Discussion\n",
        "Explain and interpret your results.  Explain how your results solve the problem.  Also describe anything interesting you discovered along the way, or lessons learned, or how you overcame problems you encountered.     "
      ]
    }
  ],
  "metadata": {
    "kernelspec": {
      "display_name": "Python 3",
      "language": "python",
      "name": "python3"
    },
    "language_info": {
      "codemirror_mode": {
        "name": "ipython",
        "version": 3
      },
      "file_extension": ".py",
      "mimetype": "text/x-python",
      "name": "python",
      "nbconvert_exporter": "python",
      "pygments_lexer": "ipython3",
      "version": "3.6.3"
    },
    "colab": {
      "name": "Class 1-28-2022 Classifier Challenge.ipynb",
      "provenance": [],
      "collapsed_sections": [],
      "include_colab_link": true
    }
  },
  "nbformat": 4,
  "nbformat_minor": 0
}