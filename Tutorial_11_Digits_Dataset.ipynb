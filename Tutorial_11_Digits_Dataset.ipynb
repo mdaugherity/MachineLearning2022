{
  "cells": [
    {
      "cell_type": "markdown",
      "metadata": {
        "id": "view-in-github",
        "colab_type": "text"
      },
      "source": [
        "<a href=\"https://colab.research.google.com/github/mdaugherity/MachineLearning2022/blob/main/Tutorial_11_Digits_Dataset.ipynb\" target=\"_parent\"><img src=\"https://colab.research.google.com/assets/colab-badge.svg\" alt=\"Open In Colab\"/></a>"
      ]
    },
    {
      "cell_type": "markdown",
      "metadata": {
        "id": "sHoSCmFYkuzG"
      },
      "source": [
        "# Tutorial 11: The Digits Dataset\n",
        "### Dr. Daugherity, PHYS 453 \n",
        "\n",
        "The digits dataset in sklearn is a sample of a [more complete dataset](http://archive.ics.uci.edu/ml/datasets/Pen-Based+Recognition+of+Handwritten+Digits).  Ours has 1,797 examples of classified hand-written digits 0-9 stored as pixel arrays with color from 0 (white) to 15 (black).\n",
        "\n",
        "How well can our classifiers recognize digits?  The only fair way to evaluate classifier performance is to test them with data they haven't been trained where you know the right answers.  So we will using a **test / train split** as illustrated below."
      ]
    },
    {
      "cell_type": "code",
      "execution_count": 20,
      "metadata": {
        "id": "iSlhsOXpkuzI"
      },
      "outputs": [],
      "source": [
        "import matplotlib.pyplot as plt\n",
        "import numpy as np\n",
        "from sklearn import neighbors\n",
        "from sklearn import naive_bayes\n",
        "from sklearn.datasets import load_digits  \n",
        "#from sklearn import metrics  # for confusion matrix\n",
        "from sklearn.metrics import ConfusionMatrixDisplay"
      ]
    },
    {
      "cell_type": "markdown",
      "metadata": {
        "id": "0l0pw_rikuzL"
      },
      "source": [
        "We will load in the 1,797 samples from the data set and then split them (crudely):\n",
        "* the first 1,697 will be used for training\n",
        "* the last 100 will not be trained on and will only be used for testing the classifier's performance\n",
        "\n",
        "Sklearn has a `train_test_split` function to do this automatically:  \n",
        "https://scikit-learn.org/stable/modules/generated/sklearn.model_selection.train_test_split.html  \n",
        "but I'll just do it by hand today."
      ]
    },
    {
      "cell_type": "code",
      "execution_count": null,
      "metadata": {
        "id": "6Gy_mtX5kuzM",
        "outputId": "9d9b50c2-dcae-426a-e06e-2730e26d9c81",
        "colab": {
          "base_uri": "https://localhost:8080/"
        }
      },
      "outputs": [
        {
          "output_type": "stream",
          "name": "stdout",
          "text": [
            "Data:   (1797, 64) (1797,)\n",
            "Train:  (1697, 64) (1697,)\n",
            "Test:   (100, 64) (100,)\n"
          ]
        }
      ],
      "source": [
        "X,y = load_digits(return_X_y=True)\n",
        "\n",
        "# Do a crude test/train split to evaluate classifiers\n",
        "NUM_TEST = 100\n",
        "X_train = X[:-NUM_TEST] # take all but the last 100 elements, use these for training\n",
        "y_train = y[:-NUM_TEST]\n",
        "X_test = X[-NUM_TEST:]  # take only the last 100 elements, use these for testing\n",
        "y_true = y[-NUM_TEST:]  # the right answers to check classifier's performance\n",
        "\n",
        "print(\"Data:  \",X.shape,y.shape)\n",
        "print(\"Train: \",X_train.shape, y_train.shape)\n",
        "print(\"Test:  \",X_test.shape,y_true.shape)"
      ]
    },
    {
      "cell_type": "code",
      "execution_count": null,
      "metadata": {
        "id": "_8BHUVhDkuzN",
        "outputId": "2e1d7642-f0df-4f49-ed91-15437f0c3eaf",
        "colab": {
          "base_uri": "https://localhost:8080/"
        }
      },
      "outputs": [
        {
          "output_type": "execute_result",
          "data": {
            "text/plain": [
              "array([ 0.,  0.,  5., 13.,  9.,  1.,  0.,  0.,  0.,  0., 13., 15., 10.,\n",
              "       15.,  5.,  0.,  0.,  3., 15.,  2.,  0., 11.,  8.,  0.,  0.,  4.,\n",
              "       12.,  0.,  0.,  8.,  8.,  0.,  0.,  5.,  8.,  0.,  0.,  9.,  8.,\n",
              "        0.,  0.,  4., 11.,  0.,  1., 12.,  7.,  0.,  0.,  2., 14.,  5.,\n",
              "       10., 12.,  0.,  0.,  0.,  0.,  6., 13., 10.,  0.,  0.,  0.])"
            ]
          },
          "metadata": {},
          "execution_count": 3
        }
      ],
      "source": [
        "X_train[0]"
      ]
    },
    {
      "cell_type": "markdown",
      "metadata": {
        "id": "1-MouRP-kuzO"
      },
      "source": [
        "We have 64 features each representing a pixel color from 0 (white) to 15 (black).  \n",
        "\n",
        "### VERY IMPORTANT WARNING\n",
        "* To draw the images we need to make a 2D 8x8 array\n",
        "* To use sklearn we need a 2D Nx64 array (for N samples)\n",
        "\n",
        "We will use the reshape command to accomplish this feat:  \n",
        "https://docs.scipy.org/doc/numpy/reference/generated/numpy.reshape.html  \n",
        "In giving the new shape, you can use one -1 and numpy will calculate the dimension from the number of elements"
      ]
    },
    {
      "cell_type": "code",
      "execution_count": null,
      "metadata": {
        "id": "6rYC-ZNqkuzP",
        "outputId": "03a5bdae-3a48-4264-e315-2005b46b8465",
        "colab": {
          "base_uri": "https://localhost:8080/"
        }
      },
      "outputs": [
        {
          "output_type": "execute_result",
          "data": {
            "text/plain": [
              "(64,)"
            ]
          },
          "metadata": {},
          "execution_count": 4
        }
      ],
      "source": [
        "X_train[0].shape"
      ]
    },
    {
      "cell_type": "markdown",
      "metadata": {
        "id": "JFSAOgw5kuzQ"
      },
      "source": [
        "So one sample is a 1D array with 64 elements, so we need to reshape it"
      ]
    },
    {
      "cell_type": "code",
      "execution_count": null,
      "metadata": {
        "id": "ZLHmfCjDkuzR",
        "outputId": "8feab495-a229-4d08-a641-03d33024d687",
        "colab": {
          "base_uri": "https://localhost:8080/"
        }
      },
      "outputs": [
        {
          "output_type": "execute_result",
          "data": {
            "text/plain": [
              "array([[ 0.,  0.,  5., 13.,  9.,  1.,  0.,  0.],\n",
              "       [ 0.,  0., 13., 15., 10., 15.,  5.,  0.],\n",
              "       [ 0.,  3., 15.,  2.,  0., 11.,  8.,  0.],\n",
              "       [ 0.,  4., 12.,  0.,  0.,  8.,  8.,  0.],\n",
              "       [ 0.,  5.,  8.,  0.,  0.,  9.,  8.,  0.],\n",
              "       [ 0.,  4., 11.,  0.,  1., 12.,  7.,  0.],\n",
              "       [ 0.,  2., 14.,  5., 10., 12.,  0.,  0.],\n",
              "       [ 0.,  0.,  6., 13., 10.,  0.,  0.,  0.]])"
            ]
          },
          "metadata": {},
          "execution_count": 5
        }
      ],
      "source": [
        "X_train[0].reshape(8,8)  # make an 8x8 array for drawing"
      ]
    },
    {
      "cell_type": "code",
      "execution_count": null,
      "metadata": {
        "id": "6aWdYXdJkuzT",
        "outputId": "97d401db-7220-488c-9135-471a213cf735",
        "colab": {
          "base_uri": "https://localhost:8080/"
        }
      },
      "outputs": [
        {
          "output_type": "execute_result",
          "data": {
            "text/plain": [
              "(8, 8)"
            ]
          },
          "metadata": {},
          "execution_count": 6
        }
      ],
      "source": [
        "X_train[0].reshape(8,8).shape"
      ]
    },
    {
      "cell_type": "code",
      "execution_count": null,
      "metadata": {
        "id": "g65u2fz2kuzU",
        "outputId": "26e3def4-1edf-4691-c682-7aa3b0d2ada3",
        "colab": {
          "base_uri": "https://localhost:8080/"
        }
      },
      "outputs": [
        {
          "output_type": "execute_result",
          "data": {
            "text/plain": [
              "array([[ 0.,  0.,  5., 13.,  9.,  1.,  0.,  0.,  0.,  0., 13., 15., 10.,\n",
              "        15.,  5.,  0.,  0.,  3., 15.,  2.,  0., 11.,  8.,  0.,  0.,  4.,\n",
              "        12.,  0.,  0.,  8.,  8.,  0.,  0.,  5.,  8.,  0.,  0.,  9.,  8.,\n",
              "         0.,  0.,  4., 11.,  0.,  1., 12.,  7.,  0.,  0.,  2., 14.,  5.,\n",
              "        10., 12.,  0.,  0.,  0.,  0.,  6., 13., 10.,  0.,  0.,  0.]])"
            ]
          },
          "metadata": {},
          "execution_count": 7
        }
      ],
      "source": [
        "X_train[0].reshape(1,-1)  # make a 2D 1x64 array for sklearn  (-1 means to use all elements)"
      ]
    },
    {
      "cell_type": "code",
      "execution_count": null,
      "metadata": {
        "id": "WHoZkr-MkuzW",
        "outputId": "b6890f96-2a91-45e9-976d-d5afc7c6fc09",
        "colab": {
          "base_uri": "https://localhost:8080/"
        }
      },
      "outputs": [
        {
          "output_type": "execute_result",
          "data": {
            "text/plain": [
              "(1, 64)"
            ]
          },
          "metadata": {},
          "execution_count": 8
        }
      ],
      "source": [
        "X_train[0].reshape(1,-1).shape"
      ]
    },
    {
      "cell_type": "markdown",
      "metadata": {
        "id": "__vUxGcFkuzW"
      },
      "source": [
        "**DO NOT PROCEED FARTHER** until you understand this.  \n",
        "\n",
        "Now we can play with digits"
      ]
    },
    {
      "cell_type": "markdown",
      "metadata": {
        "id": "jHx0nMQhkuzX"
      },
      "source": [
        "# Drawing Digits"
      ]
    },
    {
      "cell_type": "code",
      "execution_count": null,
      "metadata": {
        "id": "WIx9aKsmkuzX",
        "outputId": "9f5b3284-b7a5-4684-b71b-106db84dbbd9",
        "colab": {
          "base_uri": "https://localhost:8080/",
          "height": 216
        }
      },
      "outputs": [
        {
          "output_type": "display_data",
          "data": {
            "image/png": "[encoded data removed]",
            "text/plain": [
              "<Figure size 432x216 with 2 Axes>"
            ]
          },
          "metadata": {
            "needs_background": "light"
          }
        }
      ],
      "source": [
        "# Plot the first training sample\n",
        "plt.figure(figsize=(6, 3))\n",
        "\n",
        "plt.subplot(1,2,1)\n",
        "plt.imshow(X_train[0].reshape(8,8)) \n",
        "plt.title(\"Default Colors\")\n",
        "\n",
        "plt.subplot(1,2,2)\n",
        "plt.title(\"Binary Colormap\")\n",
        "plt.imshow(X_train[0].reshape(8,8), cmap=plt.cm.binary)\n",
        "\n",
        "plt.show()"
      ]
    },
    {
      "cell_type": "markdown",
      "metadata": {
        "id": "9ZdaFGzfkuzY"
      },
      "source": [
        "The `imshow` command draws the 8x8 image.  The default colors are quite pretty, but I'll stick with the black and white version"
      ]
    },
    {
      "cell_type": "code",
      "execution_count": null,
      "metadata": {
        "id": "D2L4JyJAkuzZ",
        "outputId": "3d587fe3-2587-4af7-9818-d15077b5334a",
        "colab": {
          "base_uri": "https://localhost:8080/",
          "height": 394
        }
      },
      "outputs": [
        {
          "output_type": "display_data",
          "data": {
            "image/png": "[encoded data removed]",
            "text/plain": [
              "<Figure size 720x360 with 50 Axes>"
            ]
          },
          "metadata": {}
        }
      ],
      "source": [
        "# Plot the first 50 samples\n",
        "fig = plt.figure(figsize=(10, 5))  \n",
        "fig.subplots_adjust(left=0, right=1, bottom=0, top=1, hspace=0.05, wspace=0.05) # make small panels\n",
        "\n",
        "for i in range(50):\n",
        "    ax = fig.add_subplot(5,10, i + 1, xticks=[], yticks=[])\n",
        "    ax.imshow(X_train[i].reshape(8,8), cmap=plt.cm.binary)\n",
        "    ax.text(0, 7, str(y_train[i]))  # label the image with the target value\n",
        "    \n",
        "plt.show()"
      ]
    },
    {
      "cell_type": "code",
      "execution_count": null,
      "metadata": {
        "id": "Ox8dnQ8Zkuza",
        "outputId": "b5c69e37-e270-4444-9a73-1f17f54c5c72",
        "colab": {
          "base_uri": "https://localhost:8080/"
        }
      },
      "outputs": [
        {
          "output_type": "execute_result",
          "data": {
            "text/plain": [
              "array([0, 1, 2, 3, 4, 5, 6, 7, 8, 9, 0, 1, 2, 3, 4, 5, 6, 7, 8, 9, 0, 1,\n",
              "       2, 3, 4, 5, 6, 7, 8, 9, 0, 9, 5, 5, 6, 5, 0, 9, 8, 9, 8, 4, 1, 7,\n",
              "       7, 3, 5, 1, 0, 0])"
            ]
          },
          "metadata": {},
          "execution_count": 11
        }
      ],
      "source": [
        "y_train[:50] # the true numbers in the training set"
      ]
    },
    {
      "cell_type": "code",
      "execution_count": null,
      "metadata": {
        "id": "pMUtnFozkuza",
        "outputId": "9e94af11-736c-4ff1-ad39-5e453bb45252",
        "colab": {
          "base_uri": "https://localhost:8080/"
        }
      },
      "outputs": [
        {
          "output_type": "stream",
          "name": "stdout",
          "text": [
            "Target\tCount\n",
            "0 \t 168\n",
            "1 \t 172\n",
            "2 \t 167\n",
            "3 \t 173\n",
            "4 \t 171\n",
            "5 \t 172\n",
            "6 \t 171\n",
            "7 \t 169\n",
            "8 \t 164\n",
            "9 \t 170\n"
          ]
        }
      ],
      "source": [
        "target,count = np.unique(y_train, return_counts=1)\n",
        "print(\"Target\\tCount\")\n",
        "for t,c in zip(target,count):\n",
        "    print(t,'\\t',c)"
      ]
    },
    {
      "cell_type": "markdown",
      "metadata": {
        "id": "adlPmcrskuzb"
      },
      "source": [
        "We have nearly equal numbers of all the digits in the training set"
      ]
    },
    {
      "cell_type": "markdown",
      "metadata": {
        "id": "omT39D70kuzc"
      },
      "source": [
        "Let's try training a classifier and seeing if it works"
      ]
    },
    {
      "cell_type": "markdown",
      "metadata": {
        "id": "Bf4yBDPnkuzc"
      },
      "source": [
        "# Classifier Performance\n",
        "### The Training Data"
      ]
    },
    {
      "cell_type": "code",
      "execution_count": null,
      "metadata": {
        "id": "_WB94ghmkuzd",
        "outputId": "6c908243-0b10-45b4-cdc1-dc42111fb9dc",
        "colab": {
          "base_uri": "https://localhost:8080/"
        }
      },
      "outputs": [
        {
          "output_type": "execute_result",
          "data": {
            "text/plain": [
              "0.8573954036535062"
            ]
          },
          "metadata": {},
          "execution_count": 13
        }
      ],
      "source": [
        "clf = naive_bayes.GaussianNB()\n",
        "clf.fit(X_train,y_train)  # only train on the training data!!!!!!!!!!!\n",
        "clf.score(X_train,y_train)"
      ]
    },
    {
      "cell_type": "markdown",
      "metadata": {
        "id": "4-F8BP3akuzd"
      },
      "source": [
        "The gaussian fits get 85.7% of the training data right.  Where did it go wrong?"
      ]
    },
    {
      "cell_type": "markdown",
      "metadata": {
        "id": "uVTqDKYDkuzd"
      },
      "source": [
        "### The Test Data\n",
        "The only fair way to evaluate a classifier is to use data **it hasn't been trained on**.  That's why we reserved 100 samples for a testing data set.  How well do we do with new samples the classifiers hasn't seen before?"
      ]
    },
    {
      "cell_type": "code",
      "execution_count": null,
      "metadata": {
        "id": "0GVhMD__kuze",
        "outputId": "fdccf6d6-bbed-40da-aeb4-ecb5c2541e9f",
        "colab": {
          "base_uri": "https://localhost:8080/"
        }
      },
      "outputs": [
        {
          "output_type": "execute_result",
          "data": {
            "text/plain": [
              "0.87"
            ]
          },
          "metadata": {},
          "execution_count": 14
        }
      ],
      "source": [
        "clf.score(X_test,y_true)"
      ]
    },
    {
      "cell_type": "markdown",
      "metadata": {
        "id": "zpBEUjIZkuzf"
      },
      "source": [
        "We get 87% right!  Consistent scores between the test and train dataset are a good sign that we are not under or over fitting."
      ]
    },
    {
      "cell_type": "code",
      "source": [
        "y_test = clf.predict(X_test)\n",
        "ConfusionMatrixDisplay.from_predictions(y_true, y_test,cmap='Blues')\n",
        "plt.show()"
      ],
      "metadata": {
        "colab": {
          "base_uri": "https://localhost:8080/",
          "height": 283
        },
        "id": "iInqbr7do6zW",
        "outputId": "443fd94f-c8a3-49d8-dfe4-c7b3448e7e50"
      },
      "execution_count": 27,
      "outputs": [
        {
          "output_type": "display_data",
          "data": {
            "image/png": "[encoded data removed]",
            "text/plain": [
              "<Figure size 432x288 with 2 Axes>"
            ]
          },
          "metadata": {
            "needs_background": "light"
          }
        }
      ]
    },
    {
      "cell_type": "markdown",
      "metadata": {
        "id": "YRQCy77Nkuzf"
      },
      "source": [
        "We get a nice visualization of our mistakes. We often confuse 3's as 5's or 8's. So if I were going to try to improve performance then those are the places I would start."
      ]
    },
    {
      "cell_type": "code",
      "execution_count": null,
      "metadata": {
        "id": "Clck8bVekuzh",
        "outputId": "daadb719-a31a-4a16-bc0c-8064215f74d6",
        "colab": {
          "base_uri": "https://localhost:8080/"
        }
      },
      "outputs": [
        {
          "output_type": "stream",
          "name": "stdout",
          "text": [
            "Sample\tTruth\tPredicted\n",
            "11\t4\t7\n",
            "15\t3\t7\n",
            "20\t2\t8\n",
            "29\t3\t8\n",
            "30\t3\t8\n",
            "32\t3\t5\n",
            "33\t3\t8\n",
            "50\t1\t8\n",
            "54\t2\t8\n",
            "60\t1\t8\n",
            "68\t3\t5\n",
            "93\t8\t1\n",
            "97\t8\t1\n"
          ]
        }
      ],
      "source": [
        "# Find the miss-classified samples\n",
        "miss = []  # save missed sample numbers\n",
        "print('Sample\\tTruth\\tPredicted')\n",
        "for i,pred in enumerate(y_pred):\n",
        "    if pred!=y_true[i]:\n",
        "        print(f\"{i}\\t{y_true[i]}\\t{pred}\")\n",
        "        miss.append(i)"
      ]
    },
    {
      "cell_type": "code",
      "execution_count": null,
      "metadata": {
        "id": "QoPwAUdBkuzh",
        "outputId": "09885500-d55c-412e-e9d2-ba8424ad14c4",
        "colab": {
          "base_uri": "https://localhost:8080/",
          "height": 195
        }
      },
      "outputs": [
        {
          "output_type": "display_data",
          "data": {
            "image/png": "[encoded data removed]",
            "text/plain": [
              "<Figure size 1080x216 with 5 Axes>"
            ]
          },
          "metadata": {}
        }
      ],
      "source": [
        "# Plot the first 5 missed samples\n",
        "fig = plt.figure(figsize=(15, 3))  \n",
        "#fig.subplots_adjust(left=0, right=1, bottom=0, top=1, hspace=0.05, wspace=0.05) # make small panels\n",
        "\n",
        "for i in range(5):\n",
        "    m = miss[i]  # the sample number we are looking at\n",
        "    ax = fig.add_subplot(1,5, i + 1, xticks=[], yticks=[])\n",
        "    ax.imshow(X_test[m].reshape(8,8), cmap=plt.cm.binary)\n",
        "    #ax.text(0, 7, str(y_true[i]))  # Truth value\n",
        "    plt.title(f\"Truth={y_true[m]}, Pred={y_pred[m]}\")\n",
        "    \n",
        "plt.show()"
      ]
    },
    {
      "cell_type": "markdown",
      "metadata": {
        "id": "LAb_Sa7wkuzi"
      },
      "source": [
        "Some of these are reasonable guesses, but some are pretty strange.\n",
        "\n",
        "In Homework 4 you will try to do better!"
      ]
    }
  ],
  "metadata": {
    "kernelspec": {
      "display_name": "Python 3",
      "language": "python",
      "name": "python3"
    },
    "language_info": {
      "codemirror_mode": {
        "name": "ipython",
        "version": 3
      },
      "file_extension": ".py",
      "mimetype": "text/x-python",
      "name": "python",
      "nbconvert_exporter": "python",
      "pygments_lexer": "ipython3",
      "version": "3.6.10"
    },
    "colab": {
      "name": "Tutorial 11 - Digits Dataset.ipynb",
      "provenance": [],
      "collapsed_sections": [],
      "include_colab_link": true
    }
  },
  "nbformat": 4,
  "nbformat_minor": 0
}