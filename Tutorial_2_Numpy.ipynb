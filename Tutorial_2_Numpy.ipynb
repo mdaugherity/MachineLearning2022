{
  "cells": [
    {
      "cell_type": "markdown",
      "metadata": {
        "id": "view-in-github",
        "colab_type": "text"
      },
      "source": [
        "<a href=\"https://colab.research.google.com/github/mdaugherity/MachineLearning2022/blob/main/Tutorial_2_Numpy.ipynb\" target=\"_parent\"><img src=\"https://colab.research.google.com/assets/colab-badge.svg\" alt=\"Open In Colab\"/></a>"
      ]
    },
    {
      "cell_type": "markdown",
      "metadata": {
        "id": "gmbb1k9PDWbG"
      },
      "source": [
        "# Tutorial 2: NUMPY\n",
        "### Dr. Daugherity, PHYS 453 - Spring 2022\n",
        "\n",
        "All data scientists use numpy for fast, efficient arrays with tons of powerful libraries.  I highly recommend the [Python Data Science Handbook](https://jakevdp.github.io/PythonDataScienceHandbook/index.html) as a great introduction to numpy \n",
        "\n",
        "**REFERENCES**\n",
        "* https://jakevdp.github.io/PythonDataScienceHandbook/index.html\n",
        "* https://numpy.org/devdocs/user/quickstart.html"
      ]
    },
    {
      "cell_type": "code",
      "execution_count": null,
      "metadata": {
        "id": "zbFb4w_2DWbJ",
        "outputId": "fd467e8d-ebd1-43a9-9ab5-a2675576135b",
        "colab": {
          "base_uri": "https://localhost:8080/",
          "height": 36
        }
      },
      "outputs": [
        {
          "output_type": "execute_result",
          "data": {
            "application/vnd.google.colaboratory.intrinsic+json": {
              "type": "string"
            },
            "text/plain": [
              "'1.19.5'"
            ]
          },
          "metadata": {},
          "execution_count": 1
        }
      ],
      "source": [
        "import numpy as np\n",
        "np.__version__"
      ]
    },
    {
      "cell_type": "markdown",
      "metadata": {
        "id": "PttBh51EDWbL"
      },
      "source": [
        "## Creating Arrays\n",
        "This arrays are **NOT** dynamically sized.  You need to declare them before using!"
      ]
    },
    {
      "cell_type": "code",
      "execution_count": null,
      "metadata": {
        "id": "veLw9sYaDWbM",
        "outputId": "ba9a8b17-fe82-4b88-a850-0e2b60a031de",
        "colab": {
          "base_uri": "https://localhost:8080/"
        }
      },
      "outputs": [
        {
          "output_type": "execute_result",
          "data": {
            "text/plain": [
              "array([1, 4, 2, 5, 3])"
            ]
          },
          "metadata": {},
          "execution_count": 2
        }
      ],
      "source": [
        "np.array([1, 4, 2, 5, 3])"
      ]
    },
    {
      "cell_type": "code",
      "execution_count": null,
      "metadata": {
        "id": "RiH0UNYQDWbM",
        "outputId": "2e602141-27ff-423c-f8e4-f1d15e2499f5",
        "colab": {
          "base_uri": "https://localhost:8080/"
        }
      },
      "outputs": [
        {
          "output_type": "execute_result",
          "data": {
            "text/plain": [
              "array([[1.5, 2. , 3. ],\n",
              "       [4. , 5. , 6. ]])"
            ]
          },
          "metadata": {},
          "execution_count": 3
        }
      ],
      "source": [
        "np.array([(1.5,2,3), (4,5,6)])"
      ]
    },
    {
      "cell_type": "code",
      "execution_count": null,
      "metadata": {
        "id": "fOnjArj-DWbO",
        "outputId": "d95b4c87-e4fa-411e-c20b-2ad5fb4961e7",
        "colab": {
          "base_uri": "https://localhost:8080/"
        }
      },
      "outputs": [
        {
          "output_type": "execute_result",
          "data": {
            "text/plain": [
              "array([0., 0., 0., 0., 0., 0., 0., 0., 0., 0.])"
            ]
          },
          "metadata": {},
          "execution_count": 4
        }
      ],
      "source": [
        "np.zeros(10)  # my most common method"
      ]
    },
    {
      "cell_type": "code",
      "execution_count": null,
      "metadata": {
        "id": "z3SMbuTeDWbO",
        "outputId": "ab1dffc9-5f66-4ec1-cf99-caa074ae4cf0",
        "colab": {
          "base_uri": "https://localhost:8080/"
        }
      },
      "outputs": [
        {
          "output_type": "execute_result",
          "data": {
            "text/plain": [
              "array([[1., 1., 1., 1., 1.],\n",
              "       [1., 1., 1., 1., 1.],\n",
              "       [1., 1., 1., 1., 1.]])"
            ]
          },
          "metadata": {},
          "execution_count": 5
        }
      ],
      "source": [
        "np.ones((3, 5))"
      ]
    },
    {
      "cell_type": "code",
      "execution_count": null,
      "metadata": {
        "id": "UOxOzovJDWbP",
        "outputId": "d2a3499a-aad2-44d1-b99a-29972ab15b3d",
        "colab": {
          "base_uri": "https://localhost:8080/"
        }
      },
      "outputs": [
        {
          "output_type": "execute_result",
          "data": {
            "text/plain": [
              "array([ 0,  2,  4,  6,  8, 10, 12, 14, 16, 18])"
            ]
          },
          "metadata": {},
          "execution_count": 6
        }
      ],
      "source": [
        "np.arange(0, 20, 2)  # like the range command (start, stop, step)"
      ]
    },
    {
      "cell_type": "code",
      "execution_count": null,
      "metadata": {
        "id": "y3-XvWluDWbP",
        "outputId": "6d6f07e5-8533-42ea-e61e-76a4f4785f47",
        "colab": {
          "base_uri": "https://localhost:8080/"
        }
      },
      "outputs": [
        {
          "output_type": "execute_result",
          "data": {
            "text/plain": [
              "array([0.  , 0.25, 0.5 , 0.75, 1.  ])"
            ]
          },
          "metadata": {},
          "execution_count": 7
        }
      ],
      "source": [
        "np.linspace(0, 1, 5)  # my second most common method"
      ]
    },
    {
      "cell_type": "code",
      "execution_count": null,
      "metadata": {
        "id": "KZAC4sj_DWbR",
        "outputId": "4565c7ae-91b3-4501-c3db-c6564dc406ee",
        "colab": {
          "base_uri": "https://localhost:8080/"
        }
      },
      "outputs": [
        {
          "output_type": "stream",
          "name": "stdout",
          "text": [
            "x ndim:  2\n",
            "x shape: (2, 3)\n",
            "x size:  6\n"
          ]
        }
      ],
      "source": [
        "x = np.array([(1.5,2,3), (4,5,6)])\n",
        "print(\"x ndim: \", x.ndim)\n",
        "print(\"x shape:\", x.shape)\n",
        "print(\"x size: \", x.size)"
      ]
    },
    {
      "cell_type": "markdown",
      "metadata": {
        "id": "ZEnnbwCfDWbR"
      },
      "source": [
        "\n",
        "## Indexing Arrays\n",
        "Three fun tricks:\n",
        "1.  we can use [start:stop:step]\n",
        "1.  negative numbers read from the end\n",
        "1.  a single colon means _everything_\n"
      ]
    },
    {
      "cell_type": "code",
      "execution_count": null,
      "metadata": {
        "id": "Fi3FfNOZDWbS",
        "outputId": "9210cd68-3f3c-40d0-a8ae-398f293ceaf3",
        "colab": {
          "base_uri": "https://localhost:8080/"
        }
      },
      "outputs": [
        {
          "output_type": "execute_result",
          "data": {
            "text/plain": [
              "array([0., 1., 2., 3., 4., 5., 6., 7., 8.])"
            ]
          },
          "metadata": {},
          "execution_count": 9
        }
      ],
      "source": [
        "x = np.linspace(0,8,9)  # (start, stop, num)\n",
        "x"
      ]
    },
    {
      "cell_type": "code",
      "execution_count": null,
      "metadata": {
        "id": "GXZwJVQpDWbS",
        "outputId": "1d879bd4-1b37-49fc-e9de-8c1dbcb82716",
        "colab": {
          "base_uri": "https://localhost:8080/"
        }
      },
      "outputs": [
        {
          "output_type": "execute_result",
          "data": {
            "text/plain": [
              "array([0., 1., 2., 3., 4.])"
            ]
          },
          "metadata": {},
          "execution_count": 10
        }
      ],
      "source": [
        "x[:5]  # first five elements"
      ]
    },
    {
      "cell_type": "code",
      "execution_count": null,
      "metadata": {
        "id": "MuRprthNDWbT",
        "outputId": "34e62016-926e-4d50-dc76-732f91ffab2e",
        "colab": {
          "base_uri": "https://localhost:8080/"
        }
      },
      "outputs": [
        {
          "output_type": "execute_result",
          "data": {
            "text/plain": [
              "array([5., 6., 7., 8.])"
            ]
          },
          "metadata": {},
          "execution_count": 11
        }
      ],
      "source": [
        "x[5:]  # elements after index 5"
      ]
    },
    {
      "cell_type": "code",
      "execution_count": null,
      "metadata": {
        "id": "Lx8hkI0nDWbT",
        "outputId": "68578840-9642-414b-97b3-24c2abb91e83",
        "colab": {
          "base_uri": "https://localhost:8080/"
        }
      },
      "outputs": [
        {
          "output_type": "execute_result",
          "data": {
            "text/plain": [
              "array([0., 2., 4., 6., 8.])"
            ]
          },
          "metadata": {},
          "execution_count": 12
        }
      ],
      "source": [
        "x[::2]  # every other element"
      ]
    },
    {
      "cell_type": "code",
      "execution_count": null,
      "metadata": {
        "id": "HuhW9HhKDWbU",
        "outputId": "5d569157-2add-4a73-9fc0-994696db31dd",
        "colab": {
          "base_uri": "https://localhost:8080/"
        }
      },
      "outputs": [
        {
          "output_type": "execute_result",
          "data": {
            "text/plain": [
              "8.0"
            ]
          },
          "metadata": {},
          "execution_count": 13
        }
      ],
      "source": [
        "x[-1] # last element"
      ]
    },
    {
      "cell_type": "code",
      "execution_count": null,
      "metadata": {
        "id": "DX1VuIVMDWbU",
        "outputId": "a23b4673-4ce8-49b1-8550-b83cedf0b618",
        "colab": {
          "base_uri": "https://localhost:8080/"
        }
      },
      "outputs": [
        {
          "output_type": "execute_result",
          "data": {
            "text/plain": [
              "7.0"
            ]
          },
          "metadata": {},
          "execution_count": 14
        }
      ],
      "source": [
        "x[-2] # second-to-last element"
      ]
    },
    {
      "cell_type": "code",
      "execution_count": null,
      "metadata": {
        "id": "S0NRN0C1DWbV",
        "outputId": "c3e2321d-263a-487e-8935-b536d596adbc",
        "colab": {
          "base_uri": "https://localhost:8080/"
        }
      },
      "outputs": [
        {
          "output_type": "execute_result",
          "data": {
            "text/plain": [
              "array([8., 7., 6., 5., 4., 3., 2., 1., 0.])"
            ]
          },
          "metadata": {},
          "execution_count": 15
        }
      ],
      "source": [
        "x[::-1] # all elements, reversed"
      ]
    },
    {
      "cell_type": "code",
      "execution_count": null,
      "metadata": {
        "id": "El0QbQ57DWbW",
        "outputId": "a901f49f-2631-41ac-d2cb-9dc033adbe28",
        "colab": {
          "base_uri": "https://localhost:8080/"
        }
      },
      "outputs": [
        {
          "output_type": "execute_result",
          "data": {
            "text/plain": [
              "array([[0., 1., 2.],\n",
              "       [3., 4., 5.],\n",
              "       [6., 7., 8.]])"
            ]
          },
          "metadata": {},
          "execution_count": 16
        }
      ],
      "source": [
        "# Fun in 2D\n",
        "y = x.reshape((3,3))\n",
        "y"
      ]
    },
    {
      "cell_type": "code",
      "execution_count": null,
      "metadata": {
        "id": "JjYdS9gaDWbW",
        "outputId": "8855168d-a248-41a1-866d-e876bc479e39",
        "colab": {
          "base_uri": "https://localhost:8080/"
        }
      },
      "outputs": [
        {
          "output_type": "execute_result",
          "data": {
            "text/plain": [
              "array([0., 3., 6.])"
            ]
          },
          "metadata": {},
          "execution_count": 17
        }
      ],
      "source": [
        "y[:, 0]  # first column "
      ]
    },
    {
      "cell_type": "code",
      "execution_count": null,
      "metadata": {
        "id": "dpSKBXT5DWbW",
        "outputId": "c4f3c7ac-1ab2-4594-aa5d-91b51bcc16c2",
        "colab": {
          "base_uri": "https://localhost:8080/"
        }
      },
      "outputs": [
        {
          "output_type": "execute_result",
          "data": {
            "text/plain": [
              "array([0., 1., 2.])"
            ]
          },
          "metadata": {},
          "execution_count": 18
        }
      ],
      "source": [
        "y[0, :]  # first row "
      ]
    },
    {
      "cell_type": "code",
      "execution_count": null,
      "metadata": {
        "id": "AszsKpOHDWbX",
        "outputId": "1244c2ae-af43-43a1-88a8-ebeacb4e6ead",
        "colab": {
          "base_uri": "https://localhost:8080/"
        }
      },
      "outputs": [
        {
          "output_type": "execute_result",
          "data": {
            "text/plain": [
              "array([0., 1., 2.])"
            ]
          },
          "metadata": {},
          "execution_count": 19
        }
      ],
      "source": [
        "y[0]  # equivalent to y[0, :]"
      ]
    },
    {
      "cell_type": "markdown",
      "metadata": {
        "id": "X7AlB4wFDWbX"
      },
      "source": [
        "\n",
        "# Looping over Arrays\n",
        "\n",
        "**AVOID looping over arrays whenever possible!**  \n",
        "\n",
        "Here's why"
      ]
    },
    {
      "cell_type": "code",
      "execution_count": null,
      "metadata": {
        "id": "bo4cU_IhDWbX"
      },
      "outputs": [],
      "source": [
        "# make a simple function to find a reciprocal\n",
        "def compute_reciprocals(values):\n",
        "    output = np.empty(len(values))\n",
        "    for i in range(len(values)):\n",
        "        output[i] = 1.0 / values[i]\n",
        "    return output"
      ]
    },
    {
      "cell_type": "code",
      "execution_count": null,
      "metadata": {
        "id": "GvItwPN5DWbY",
        "outputId": "f58f6ac1-eaee-454d-ba74-d796aecf6cd0",
        "colab": {
          "base_uri": "https://localhost:8080/"
        }
      },
      "outputs": [
        {
          "output_type": "stream",
          "name": "stdout",
          "text": [
            "1 loop, best of 5: 2.24 s per loop\n"
          ]
        }
      ],
      "source": [
        "big_array = np.random.randint(1, 100, size=1000000)\n",
        "%timeit compute_reciprocals(big_array)"
      ]
    },
    {
      "cell_type": "code",
      "execution_count": null,
      "metadata": {
        "id": "65HLBZjDDWbY",
        "outputId": "670f765a-1dbc-45da-979c-bb83800389a1",
        "colab": {
          "base_uri": "https://localhost:8080/"
        }
      },
      "outputs": [
        {
          "output_type": "stream",
          "name": "stdout",
          "text": [
            "1000 loops, best of 5: 1.71 ms per loop\n"
          ]
        }
      ],
      "source": [
        "%timeit (1.0 / big_array)"
      ]
    },
    {
      "cell_type": "markdown",
      "metadata": {
        "id": "sCLDm-JxDWbY"
      },
      "source": [
        "The *vectorized* version which acts on the array as a whole runs **500 TIMES FASTER**.  Try to operate on the array as a whole instead of looping through elements.  There are many helpful tools and functions  for doing this.\n",
        "\n",
        "\n",
        "But sometimes, you gotta do things the hard way..."
      ]
    },
    {
      "cell_type": "code",
      "execution_count": null,
      "metadata": {
        "id": "QcdNeD_IDWbZ",
        "outputId": "4c746ada-41d5-454c-f900-2d207d0ba1b8",
        "colab": {
          "base_uri": "https://localhost:8080/"
        }
      },
      "outputs": [
        {
          "output_type": "stream",
          "name": "stdout",
          "text": [
            "0.0\n",
            "0.25\n",
            "0.5\n",
            "0.75\n",
            "1.0\n"
          ]
        }
      ],
      "source": [
        "# Get values from an array\n",
        "x = np.linspace(0,1,5)\n",
        "for val in x:\n",
        "    print(val)"
      ]
    },
    {
      "cell_type": "code",
      "execution_count": null,
      "metadata": {
        "id": "GXwwdDyhDWbZ",
        "outputId": "6563592e-6668-4eff-e89a-049d0fee8fe0",
        "colab": {
          "base_uri": "https://localhost:8080/"
        }
      },
      "outputs": [
        {
          "output_type": "stream",
          "name": "stdout",
          "text": [
            "0:\t0.0\n",
            "1:\t0.25\n",
            "2:\t0.5\n",
            "3:\t0.75\n",
            "4:\t1.0\n"
          ]
        }
      ],
      "source": [
        "# Get indices the Bad way\n",
        "x = np.linspace(0,1,5)\n",
        "for i in range(len(x)):\n",
        "    print(f\"{i}:\\t{x[i]}\")"
      ]
    },
    {
      "cell_type": "code",
      "execution_count": null,
      "metadata": {
        "id": "bqCczy_TDWba",
        "outputId": "a4fd5568-900e-4b2f-d906-cbf373f59089",
        "colab": {
          "base_uri": "https://localhost:8080/"
        }
      },
      "outputs": [
        {
          "output_type": "stream",
          "name": "stdout",
          "text": [
            "(0, 0.0)\n",
            "(1, 0.25)\n",
            "(2, 0.5)\n",
            "(3, 0.75)\n",
            "(4, 1.0)\n"
          ]
        }
      ],
      "source": [
        "# Use enumerate instead!\n",
        "for i in enumerate(x):\n",
        "    print(i)"
      ]
    },
    {
      "cell_type": "code",
      "execution_count": null,
      "metadata": {
        "id": "gshI9uU1DWba",
        "outputId": "c7a89b3b-b436-4e60-dc8c-85d5847239a8",
        "colab": {
          "base_uri": "https://localhost:8080/"
        }
      },
      "outputs": [
        {
          "output_type": "stream",
          "name": "stdout",
          "text": [
            "0:\t0.0\n",
            "1:\t0.25\n",
            "2:\t0.5\n",
            "3:\t0.75\n",
            "4:\t1.0\n"
          ]
        }
      ],
      "source": [
        "for i,val in enumerate(x):\n",
        "    print(f\"{i}:\\t{val}\")"
      ]
    },
    {
      "cell_type": "code",
      "execution_count": null,
      "metadata": {
        "id": "7rbdx4VwDWba",
        "outputId": "17f3f903-d512-47a1-d5f5-8d05395664d6",
        "colab": {
          "base_uri": "https://localhost:8080/"
        }
      },
      "outputs": [
        {
          "output_type": "stream",
          "name": "stdout",
          "text": [
            "0.0\t0.0\n",
            "0.25\t0.0625\n",
            "0.5\t0.25\n",
            "0.75\t0.5625\n",
            "1.0\t1.0\n"
          ]
        }
      ],
      "source": [
        "# Finally, a fun trick for multiple arrays\n",
        "x = np.linspace(0,1,5)\n",
        "y = x**2\n",
        "\n",
        "# Bad way\n",
        "for i in range(len(x)):\n",
        "    print(f\"{x[i]}\\t{y[i]}\")"
      ]
    },
    {
      "cell_type": "code",
      "execution_count": null,
      "metadata": {
        "id": "UVVVOhXgDWba",
        "outputId": "6cdbfadb-4d96-4d8b-9971-42aa711ecb01",
        "colab": {
          "base_uri": "https://localhost:8080/"
        }
      },
      "outputs": [
        {
          "output_type": "stream",
          "name": "stdout",
          "text": [
            "0.0\t0.0\n",
            "0.25\t0.0625\n",
            "0.5\t0.25\n",
            "0.75\t0.5625\n",
            "1.0\t1.0\n"
          ]
        }
      ],
      "source": [
        "# Good way - USE ZIP!\n",
        "for xv, yv in zip(x,y):\n",
        "    print(f\"{xv}\\t{yv}\")"
      ]
    }
  ],
  "metadata": {
    "kernelspec": {
      "display_name": "Python 3",
      "language": "python",
      "name": "python3"
    },
    "language_info": {
      "codemirror_mode": {
        "name": "ipython",
        "version": 3
      },
      "file_extension": ".py",
      "mimetype": "text/x-python",
      "name": "python",
      "nbconvert_exporter": "python",
      "pygments_lexer": "ipython3",
      "version": "3.6.10"
    },
    "colab": {
      "name": "Tutorial 2 - Numpy.ipynb",
      "provenance": [],
      "collapsed_sections": [],
      "include_colab_link": true
    }
  },
  "nbformat": 4,
  "nbformat_minor": 0
}